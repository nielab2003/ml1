{
 "cells": [
  {
   "cell_type": "code",
   "execution_count": 14,
   "id": "f7759749",
   "metadata": {},
   "outputs": [
    {
     "name": "stdout",
     "output_type": "stream",
     "text": [
      "             batter  batsman_run\n",
      "569         V Kohli         6634\n",
      "462        S Dhawan         6244\n",
      "130       DA Warner         5883\n",
      "430       RG Sharma         5881\n",
      "493        SK Raina         5536\n",
      "27   AB de Villiers         5181\n",
      "108        CH Gayle         4997\n",
      "339        MS Dhoni         4978\n",
      "452      RV Uthappa         4954\n",
      "256      KD Karthik         4377\n"
     ]
    }
   ],
   "source": [
    "#FIND MOST TOP 10 GETTER FROM SERIES\n",
    "import pandas as pd\n",
    "\n",
    "df= pd.read_csv(\"batsman_runs_series.csv\")\n",
    "top_10 = df.sort_values(by=\"batsman_run\", ascending=False).head(10)\n",
    "print(top_10)\n"
   ]
  },
  {
   "cell_type": "code",
   "execution_count": 16,
   "id": "40ac0091",
   "metadata": {},
   "outputs": [
    {
     "name": "stdout",
     "output_type": "stream",
     "text": [
      "number of players with runs > 3000 : 20\n"
     ]
    }
   ],
   "source": [
    "#2 .NO OF PLAYERS HAVING RUNS ABOVE 3000\n",
    "players_above_3000 = df[df['batsman_run'] > 3000]\n",
    "print(\"number of players with runs > 3000 :\", players_above_3000.shape[0])"
   ]
  },
  {
   "cell_type": "code",
   "execution_count": 13,
   "id": "981823d5",
   "metadata": {},
   "outputs": [
    {
     "name": "stdout",
     "output_type": "stream",
     "text": [
      "128\n"
     ]
    }
   ],
   "source": [
    "#3. NO OF PLAYERS HAVING RUNS ABOVE MEAN VALUE\n",
    "#mean_runs = df['batsman_run'].mean()\n",
    "players_above_mean = df[df['batsman_run'] > df['batsman_run'].mean()]\n",
    "print(players_above_mean.shape[0])\n",
    "#(mean_runs)"
   ]
  },
  {
   "cell_type": "code",
   "execution_count": null,
   "id": "3288bdff",
   "metadata": {},
   "outputs": [],
   "source": []
  }
 ],
 "metadata": {
  "kernelspec": {
   "display_name": "Python 3 (ipykernel)",
   "language": "python",
   "name": "python3"
  },
  "language_info": {
   "codemirror_mode": {
    "name": "ipython",
    "version": 3
   },
   "file_extension": ".py",
   "mimetype": "text/x-python",
   "name": "python",
   "nbconvert_exporter": "python",
   "pygments_lexer": "ipython3",
   "version": "3.13.3"
  }
 },
 "nbformat": 4,
 "nbformat_minor": 5
}
