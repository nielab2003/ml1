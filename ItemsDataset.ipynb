{
 "cells": [
  {
   "cell_type": "code",
   "execution_count": 33,
   "id": "77ce0feb",
   "metadata": {},
   "outputs": [
    {
     "name": "stdout",
     "output_type": "stream",
     "text": [
      "                                      item_price\n",
      "item_name                                       \n",
      "Chips and Fresh Tomato Salsa              $2.39 \n",
      "Izze                                      $3.39 \n",
      "Nantucket Nectar                          $3.39 \n",
      "Chips and Tomatillo-Green Chili Salsa     $2.39 \n",
      "Chicken Bowl                             $16.98 \n",
      "...                                          ...\n",
      "Steak Burrito                            $11.75 \n",
      "Steak Burrito                            $11.75 \n",
      "Chicken Salad Bowl                       $11.25 \n",
      "Chicken Salad Bowl                        $8.75 \n",
      "Chicken Salad Bowl                        $8.75 \n",
      "\n",
      "[4622 rows x 1 columns]\n"
     ]
    }
   ],
   "source": [
    "#a)read items CSV making item_name as index \n",
    "\n",
    "import pandas as pd\n",
    "import numpy as np\n",
    "items= pd.read_csv('items.csv', index_col='item_name')\n",
    "print(items)"
   ]
  },
  {
   "cell_type": "code",
   "execution_count": 34,
   "id": "9c591997",
   "metadata": {},
   "outputs": [
    {
     "name": "stdout",
     "output_type": "stream",
     "text": [
      "Nan Values  item_price    50\n",
      "dtype: int64\n"
     ]
    }
   ],
   "source": [
    "#b) show number of nan values \n",
    "#  nan_count = items['item_price'].isnull().sum()\n",
    "# print(nan_count)\n",
    "print(\"Nan Values \", items.isna().sum())"
   ]
  },
  {
   "cell_type": "code",
   "execution_count": 38,
   "id": "018905a7",
   "metadata": {},
   "outputs": [
    {
     "name": "stdout",
     "output_type": "stream",
     "text": [
      "item_name\n",
      "Chips and Fresh Tomato Salsa              198.37\n",
      "Izze                                      281.37\n",
      "Nantucket Nectar                          281.37\n",
      "Chips and Tomatillo-Green Chili Salsa     198.37\n",
      "Chicken Bowl                             1409.34\n",
      "                                          ...   \n",
      "Steak Burrito                             975.25\n",
      "Steak Burrito                             975.25\n",
      "Chicken Salad Bowl                        933.75\n",
      "Chicken Salad Bowl                        726.25\n",
      "Chicken Salad Bowl                        726.25\n",
      "Name: item_price, Length: 4622, dtype: float64\n"
     ]
    }
   ],
   "source": [
    "#3 Item price is given in dollars($) so convert it to rupees without currency symbol. \n",
    "items['item_price'] = items['item_price'].replace('[$]', '', regex=True).astype(float)*83\n",
    "print(items['item_price'])\n",
    "\n"
   ]
  },
  {
   "cell_type": "code",
   "execution_count": 36,
   "id": "3e285e0f",
   "metadata": {},
   "outputs": [
    {
     "name": "stdout",
     "output_type": "stream",
     "text": [
      "Datatype : float64\n"
     ]
    }
   ],
   "source": [
    "#d) datatype display\n",
    "print(\"Datatype :\", items['price_inr'].dtype)"
   ]
  },
  {
   "cell_type": "code",
   "execution_count": 39,
   "id": "8ac6c49d",
   "metadata": {},
   "outputs": [
    {
     "name": "stdout",
     "output_type": "stream",
     "text": [
      "                                       item_price  price_usd  price_inr\n",
      "item_name                                                              \n",
      "Chips and Fresh Tomato Salsa               198.37       2.39     198.37\n",
      "Izze                                       281.37       3.39     281.37\n",
      "Nantucket Nectar                           281.37       3.39     281.37\n",
      "Chips and Tomatillo-Green Chili Salsa      198.37       2.39     198.37\n",
      "Chicken Bowl                              1409.34      16.98    1409.34\n",
      "...                                           ...        ...        ...\n",
      "Barbacoa Bowl                              767.75       9.25     767.75\n",
      "Chips and Guacamole                        369.35       4.45     369.35\n",
      "Carnitas Bowl                              975.25      11.75     975.25\n",
      "Chicken Burrito                            726.25       8.75     726.25\n",
      "Chicken Bowl                               726.25       8.75     726.25\n",
      "\n",
      "[100 rows x 3 columns]\n"
     ]
    }
   ],
   "source": [
    "items['price_inr'] = items['price_inr'].fillna(items['price_inr'].mean())\n",
    "print(items.head(100))"
   ]
  }
 ],
 "metadata": {
  "kernelspec": {
   "display_name": "Python 3 (ipykernel)",
   "language": "python",
   "name": "python3"
  },
  "language_info": {
   "codemirror_mode": {
    "name": "ipython",
    "version": 3
   },
   "file_extension": ".py",
   "mimetype": "text/x-python",
   "name": "python",
   "nbconvert_exporter": "python",
   "pygments_lexer": "ipython3",
   "version": "3.13.3"
  }
 },
 "nbformat": 4,
 "nbformat_minor": 5
}
