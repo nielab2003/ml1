{
 "cells": [
  {
   "cell_type": "code",
   "execution_count": 1,
   "id": "78e53079",
   "metadata": {},
   "outputs": [
    {
     "name": "stdout",
     "output_type": "stream",
     "text": [
      "[ 3 15  1 15 18]\n",
      "[55 53 53 40 72]\n",
      "2078.6\n"
     ]
    }
   ],
   "source": [
    "#1.Write a program to generate two arrays of 5 random integers between 1 and 120 (mean square error). \n",
    "import numpy as np\n",
    "def mse(a,p):\n",
    "    return np.mean((a-p)**2)\n",
    "actual=np.random.randint(1,20,5)\n",
    "predicted=np.random.randint(1,120,5)\n",
    "print(actual)\n",
    "print(predicted)\n",
    "print(mse(actual,predicted))"
   ]
  },
  {
   "cell_type": "code",
   "execution_count": 2,
   "id": "1fc0b473",
   "metadata": {},
   "outputs": [
    {
     "name": "stdout",
     "output_type": "stream",
     "text": [
      "[0.73105858 0.88079708 0.95257413 0.98201379 0.99330715 0.99752738\n",
      " 0.99908895 0.99966465 0.99987661 0.9999546 ]\n"
     ]
    }
   ],
   "source": [
    "#2.Write a program to implement sigmoid function in numpy. \n",
    "import numpy as np\n",
    "def sigmoid(x):\n",
    "    return 1/(1+np.exp(-x))\n",
    "x=np.arange(1,11)\n",
    "print(sigmoid(x))"
   ]
  },
  {
   "cell_type": "code",
   "execution_count": 2,
   "id": "256dbcaf",
   "metadata": {},
   "outputs": [
    {
     "name": "stdout",
     "output_type": "stream",
     "text": [
      "[0.65900114 0.24243297 0.09856589]\n"
     ]
    }
   ],
   "source": [
    "#3.  Write a program to implement softmax function using numpy*\n",
    "import numpy as np\n",
    "def softmax(arr):\n",
    "    exp_values=np.exp(arr-np.max(arr))\n",
    "    probabilities=exp_values/np.sum(exp_values)\n",
    "    return probabilities\n",
    "arr=[2.0,1.0,0.1]\n",
    "print(softmax(arr))"
   ]
  }
 ],
 "metadata": {
  "kernelspec": {
   "display_name": "Python 3 (ipykernel)",
   "language": "python",
   "name": "python3"
  },
  "language_info": {
   "codemirror_mode": {
    "name": "ipython",
    "version": 3
   },
   "file_extension": ".py",
   "mimetype": "text/x-python",
   "name": "python",
   "nbconvert_exporter": "python",
   "pygments_lexer": "ipython3",
   "version": "3.13.3"
  }
 },
 "nbformat": 4,
 "nbformat_minor": 5
}
